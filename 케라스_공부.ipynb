{
  "nbformat": 4,
  "nbformat_minor": 0,
  "metadata": {
    "colab": {
      "provenance": [],
      "authorship_tag": "ABX9TyOyKn3HDRcJVB4GBUadayhm",
      "include_colab_link": true
    },
    "kernelspec": {
      "name": "python3",
      "display_name": "Python 3"
    },
    "language_info": {
      "name": "python"
    }
  },
  "cells": [
    {
      "cell_type": "markdown",
      "metadata": {
        "id": "view-in-github",
        "colab_type": "text"
      },
      "source": [
        "<a href=\"https://colab.research.google.com/github/Siu0901/AI_study/blob/main/%EC%BC%80%EB%9D%BC%EC%8A%A4_%EA%B3%B5%EB%B6%80.ipynb\" target=\"_parent\"><img src=\"https://colab.research.google.com/assets/colab-badge.svg\" alt=\"Open In Colab\"/></a>"
      ]
    },
    {
      "cell_type": "code",
      "execution_count": 1,
      "metadata": {
        "id": "scP_DMVPEhIk"
      },
      "outputs": [],
      "source": [
        "# 전처리\n",
        "# Tokenizer()\n",
        "# 토큰화와 정수 인코딩을 위해 사용"
      ]
    },
    {
      "cell_type": "code",
      "source": [
        "from tensorflow.keras.preprocessing.text import Tokenizer\n",
        "from tensorflow.keras.preprocessing.sequence import pad_sequences\n",
        "\n",
        "tokenizer = Tokenizer()\n",
        "train_text = \"The earth is an awesome place live\"\n",
        "\n",
        "# 단어 집합 생성\n",
        "tokenizer.fit_on_texts([train_text])\n",
        "\n",
        "# 정수 인코딩\n",
        "sub_text = \"The earth is an great place live\"\n",
        "sequences = tokenizer.texts_to_sequences([sub_text])[0]\n",
        "\n",
        "print(\"정수 인코딩 : \",sequences)\n",
        "print(\"단어 집합 : \",tokenizer.word_index)\n"
      ],
      "metadata": {
        "colab": {
          "base_uri": "https://localhost:8080/"
        },
        "id": "5sYCdfhEFEUI",
        "outputId": "1a6fff50-ea99-4167-800f-0431743e748e"
      },
      "execution_count": 2,
      "outputs": [
        {
          "output_type": "stream",
          "name": "stdout",
          "text": [
            "정수 인코딩 :  [1, 2, 3, 4, 6, 7]\n",
            "단어 집합 :  {'the': 1, 'earth': 2, 'is': 3, 'an': 4, 'awesome': 5, 'place': 6, 'live': 7}\n"
          ]
        }
      ]
    },
    {
      "cell_type": "code",
      "source": [
        "# 문서 길이 맞추기 위한 패딩 작업\n",
        "print(pad_sequences([[1, 2, 3], [3, 4, 5, 6], [7, 8]], maxlen=3, padding='pre'))\n",
        "print(pad_sequences([[1, 2, 3], [3, 4, 5, 6], [7, 8]], maxlen=3, padding='post'))"
      ],
      "metadata": {
        "colab": {
          "base_uri": "https://localhost:8080/"
        },
        "id": "P1hZaWCoInAY",
        "outputId": "21addc40-8af1-46f0-f5ab-e741cfcfa3ee"
      },
      "execution_count": 6,
      "outputs": [
        {
          "output_type": "stream",
          "name": "stdout",
          "text": [
            "[[1 2 3]\n",
            " [4 5 6]\n",
            " [0 7 8]]\n",
            "[[1 2 3]\n",
            " [4 5 6]\n",
            " [7 8 0]]\n"
          ]
        }
      ]
    },
    {
      "cell_type": "code",
      "source": [
        "# 컴파일(Compile)과 훈련(Training)\n",
        "# RNN을 이용하여 이진 분류를 하는 전형적인 코드라 함\n",
        "# compile() : 모델을 기계가 이해할 수 있도록 컴파일 한다\n",
        "# 손실 함수와 옵티마이저, 메트릭 함수를 선택\n",
        "\n",
        "from tensorflow.keras.layers import SimpleRNN, Embedding, Dense\n",
        "from tensorflow.keras.models import Sequential\n",
        "\n",
        "vocab_size = 10000\n",
        "embedding_dim = 32\n",
        "hidden_units = 32\n",
        "\n",
        "model = Sequential()\n",
        "model.add(Embedding(vocab_size, embedding_dim))\n",
        "model.add(SimpleRNN(hidden_units))\n",
        "model.add(Dense(1, activation='sigmoid'))\n",
        "model.compile(optimizer='rmsprop', loss='binary_crossentropy', metrics=['acc'])"
      ],
      "metadata": {
        "id": "hTXAjZRSMZ45"
      },
      "execution_count": 8,
      "outputs": []
    },
    {
      "cell_type": "code",
      "source": [
        "# fit() 옌 모델 훈련 시작시키는 코드임\n",
        "# 첫번째 인자 = 훈련 데이터\n",
        "# 두번째 인자 = 지도 학습에서 레이블(정답) 데이터\n",
        "\n",
        "model.fit(X_train, y_train, epochs=10, batch_size=32)"
      ],
      "metadata": {
        "id": "jZhtpk5cqyZK"
      },
      "execution_count": null,
      "outputs": []
    },
    {
      "cell_type": "code",
      "source": [
        "# validation_data(x_val, y_val)\n",
        "# 예는 각 에포크마다 검증 데이터의 정확도나 오차를 보여주며\n",
        "# 훈련이 잘 되고 있는지 보여주는 용도\n",
        "# 여기서 검증 데이터의 오차가 낮아지다 높아지기 시작하면\n",
        "# 과적합의 신호라 볼 수 있\n",
        "model.fit(X_train, y_train, epochs=10, batch_size=32, verbose=0, validation_data(X_val, y_val))"
      ],
      "metadata": {
        "id": "kqvruMHIrMAO"
      },
      "execution_count": null,
      "outputs": []
    },
    {
      "cell_type": "code",
      "source": [
        "# 훈련 데이터의 20%를 검증 데이터로 사용.\n",
        "# validation_split 예는 validation_data 이거와 동일하게 검증 데이터 사용하기\n",
        "# 위한 용도로 예는 검증 데이터를 지정하는게 아니라\n",
        "# 훈련 데이터와 레이블에서 일정 비율을 분리해 이를 검증 데이터로 사용함\n",
        "# 아래 코드의 경우 0.2니까 20%를 검증 데이터로 사용한단 뜻\n",
        "model.fit(X_train, y_train, epochs=10, batch_size=32, verbose=0, validation_split=0.2)"
      ],
      "metadata": {
        "id": "yCU7HhRLrgod"
      },
      "execution_count": null,
      "outputs": []
    },
    {
      "cell_type": "code",
      "source": [
        "# 평가와 예측"
      ],
      "metadata": {
        "id": "E1h2WD5msFKa"
      },
      "execution_count": null,
      "outputs": []
    },
    {
      "cell_type": "code",
      "source": [
        "# evaluate() : 테스트 데이터를 통해 학습한 모델에 대한 정확도를 평가\n",
        "# 위의 fit() 코드의 연장선상인 코드\n",
        "model.evaluate(X_test, y_test, batch_size=32)"
      ],
      "metadata": {
        "id": "ZXJM3Oq_sIVG"
      },
      "execution_count": null,
      "outputs": []
    },
    {
      "cell_type": "code",
      "source": [
        "# predict() : 임의의 입력에 대한 모델의 출력값을 확인\n",
        "# 위의 fit() 코드의 연장선상인 코드\n",
        "model.predict(X_input, batch_size=32)"
      ],
      "metadata": {
        "id": "HqGYpLOcsVbl"
      },
      "execution_count": null,
      "outputs": []
    },
    {
      "cell_type": "code",
      "source": [
        "# 모델의 저장과 로드\n",
        "# 모델을 저장한다는 것은 학습이 끝난 신경망의 구조를 보존하고\n",
        "# 계속해서 사용할 수 있다는 의미임"
      ],
      "metadata": {
        "id": "YETNQ_nAse5a"
      },
      "execution_count": null,
      "outputs": []
    },
    {
      "cell_type": "code",
      "source": [
        "# save() : 인공 신경망 모델을 hdf5 파일에 저장함.\n",
        "model.save(\"model_name.h5\")"
      ],
      "metadata": {
        "id": "rilDPFYusgjH"
      },
      "execution_count": null,
      "outputs": []
    },
    {
      "cell_type": "code",
      "source": [
        "# load_model() : 저장해둔 모델을 불러옴\n",
        "from tensorflow.keras.models import load_model\n",
        "model = load_model(\"model_name.h5\")"
      ],
      "metadata": {
        "id": "auujOnQust64"
      },
      "execution_count": null,
      "outputs": []
    }
  ]
}