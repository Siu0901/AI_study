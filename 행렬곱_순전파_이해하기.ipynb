{
  "nbformat": 4,
  "nbformat_minor": 0,
  "metadata": {
    "colab": {
      "provenance": [],
      "authorship_tag": "ABX9TyPBknIk9dXbO4XYkCvOqePn",
      "include_colab_link": true
    },
    "kernelspec": {
      "name": "python3",
      "display_name": "Python 3"
    },
    "language_info": {
      "name": "python"
    }
  },
  "cells": [
    {
      "cell_type": "markdown",
      "metadata": {
        "id": "view-in-github",
        "colab_type": "text"
      },
      "source": [
        "<a href=\"https://colab.research.google.com/github/Siu0901/AI_study/blob/main/%ED%96%89%EB%A0%AC%EA%B3%B1_%EC%88%9C%EC%A0%84%ED%8C%8C_%EC%9D%B4%ED%95%B4%ED%95%98%EA%B8%B0.ipynb\" target=\"_parent\"><img src=\"https://colab.research.google.com/assets/colab-badge.svg\" alt=\"Open In Colab\"/></a>"
      ]
    },
    {
      "cell_type": "code",
      "execution_count": null,
      "metadata": {
        "id": "bqBJbl6GJOk2"
      },
      "outputs": [],
      "source": [
        "from tensorflow.keras.models import Sequential\n",
        "from tensorflow.keras.layers import Dense\n",
        "\n",
        "model = Sequential()\n",
        "\n",
        "# 4개 입력 받아서 8개로 출력\n",
        "model.add(Dense(8, input_shape=4, activation='relu'))\n",
        "\n",
        "# 이어서 8개 출력\n",
        "model.add(Dense(8, activation='relu'))\n",
        "\n",
        "# 이어서 다시 3개 출력\n",
        "model.add(Dense(3, activation='softmax'))"
      ]
    }
  ]
}