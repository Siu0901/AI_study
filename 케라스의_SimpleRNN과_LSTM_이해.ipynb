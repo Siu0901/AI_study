{
  "nbformat": 4,
  "nbformat_minor": 0,
  "metadata": {
    "colab": {
      "provenance": [],
      "authorship_tag": "ABX9TyOPYMncBHPUq6o0zTYjT1wx",
      "include_colab_link": true
    },
    "kernelspec": {
      "name": "python3",
      "display_name": "Python 3"
    },
    "language_info": {
      "name": "python"
    }
  },
  "cells": [
    {
      "cell_type": "markdown",
      "metadata": {
        "id": "view-in-github",
        "colab_type": "text"
      },
      "source": [
        "<a href=\"https://colab.research.google.com/github/Siu0901/AI_study/blob/main/%EC%BC%80%EB%9D%BC%EC%8A%A4%EC%9D%98_SimpleRNN%EA%B3%BC_LSTM_%EC%9D%B4%ED%95%B4.ipynb\" target=\"_parent\"><img src=\"https://colab.research.google.com/assets/colab-badge.svg\" alt=\"Open In Colab\"/></a>"
      ]
    },
    {
      "cell_type": "code",
      "execution_count": 1,
      "metadata": {
        "id": "3L1tZSouiLnx"
      },
      "outputs": [],
      "source": [
        "import numpy as np\n",
        "import tensorflow as tf\n",
        "from tensorflow.keras.layers import SimpleRNN, LSTM, Bidirectional"
      ]
    },
    {
      "cell_type": "code",
      "source": [
        "train_X = [[0.1, 4.2, 1.5, 1.1, 2.8], [1.0, 3.1, 2.5, 0.7, 1.1], [0.3, 2.1, 1.5, 2.1, 0.1], [2.2, 1.4, 0.5, 0.9, 1.1]]\n",
        "print(np.shape(train_X))"
      ],
      "metadata": {
        "colab": {
          "base_uri": "https://localhost:8080/"
        },
        "id": "lCV_NqwJDjs9",
        "outputId": "0466f553-bf1b-4ceb-9363-12f29155e1d0"
      },
      "execution_count": 2,
      "outputs": [
        {
          "output_type": "stream",
          "name": "stdout",
          "text": [
            "(4, 5)\n"
          ]
        }
      ]
    },
    {
      "cell_type": "code",
      "source": [
        "train_X = [[[0.1, 4.2, 1.5, 1.1, 2.8], [1.0, 3.1, 2.5, 0.7, 1.1], [0.3, 2.1, 1.5, 2.1, 0.1], [2.2, 1.4, 0.5, 0.9, 1.1]]]\n",
        "train_X = np.array(train_X, dtype=np.float32)\n",
        "print(train_X.shape)"
      ],
      "metadata": {
        "colab": {
          "base_uri": "https://localhost:8080/"
        },
        "id": "J7sGxwn2DxaD",
        "outputId": "afed69d3-d813-4341-a734-1856a622e256"
      },
      "execution_count": 3,
      "outputs": [
        {
          "output_type": "stream",
          "name": "stdout",
          "text": [
            "(1, 4, 5)\n"
          ]
        }
      ]
    },
    {
      "cell_type": "code",
      "source": [
        "# SimpleRNN 이해"
      ],
      "metadata": {
        "id": "p3vttf51_6z7"
      },
      "execution_count": 9,
      "outputs": []
    },
    {
      "cell_type": "code",
      "source": [
        "# 기본적으로 return_sequences가 False인 경우에는 SimpleRNN은\n",
        "# 마지막 시점의 은닉 상태만 출력\n",
        "\n",
        "rnn = SimpleRNN(3) # 은닉 상태 크기 3으로 지정\n",
        "# rnn = SimpleRNN(3, return_sequences=False, return_state=False)와 동일.\n",
        "hidden_state = rnn(train_X)\n",
        "\n",
        "print('hidden state : {}, shape: {}'.format(hidden_state, hidden_state.shape))"
      ],
      "metadata": {
        "colab": {
          "base_uri": "https://localhost:8080/"
        },
        "id": "YWhZhGGAHCfc",
        "outputId": "23899456-b365-4c72-9e0a-74d3c13ddb3f"
      },
      "execution_count": 10,
      "outputs": [
        {
          "output_type": "stream",
          "name": "stdout",
          "text": [
            "hidden state : [[ 0.3230485   0.4777671  -0.99173236]], shape: (1, 3)\n"
          ]
        }
      ]
    },
    {
      "cell_type": "code",
      "source": [
        "# 모든 시점 출력\n",
        "rnn = SimpleRNN(3, return_sequences=True)\n",
        "hidden_states = rnn(train_X)\n",
        "\n",
        "print('hidden states : {}, shape: {}'.format(hidden_states, hidden_states.shape))"
      ],
      "metadata": {
        "id": "588nyzexHuEn",
        "outputId": "68d9960f-5163-43ce-9f13-5c291e2045b8",
        "colab": {
          "base_uri": "https://localhost:8080/"
        }
      },
      "execution_count": 11,
      "outputs": [
        {
          "output_type": "stream",
          "name": "stdout",
          "text": [
            "hidden states : [[[-0.71816957 -0.17317982  0.86934644]\n",
            "  [-0.6503197   0.874568    0.17890233]\n",
            "  [ 0.67456275  0.17101407  0.84770554]\n",
            "  [-0.6775691  -0.10959201  0.92477494]]], shape: (1, 4, 3)\n"
          ]
        }
      ]
    },
    {
      "cell_type": "code",
      "source": [
        "# 모든 시점과 마지막 시점의 은닉상태를 출력\n",
        "\n",
        "rnn = SimpleRNN(3, return_sequences=True, return_state=True)\n",
        "hidden_states, last_state = rnn(train_X)\n",
        "\n",
        "print('hidden states : {}, shape: {}'.format(hidden_states, hidden_states.shape))\n",
        "print('last hidden state : {}, shape: {}'.format(last_state, last_state.shape))"
      ],
      "metadata": {
        "colab": {
          "base_uri": "https://localhost:8080/"
        },
        "id": "8b3HKpGdnB_e",
        "outputId": "8b19ffe5-ac05-42a8-a0c4-188ad215bb83"
      },
      "execution_count": 12,
      "outputs": [
        {
          "output_type": "stream",
          "name": "stdout",
          "text": [
            "hidden states : [[[-0.730924    0.9867087   0.977723  ]\n",
            "  [-0.9784584   0.9934442   0.18734208]\n",
            "  [-0.9981031   0.93055564  0.84021485]\n",
            "  [-0.9966289   0.3423102   0.00100422]]], shape: (1, 4, 3)\n",
            "last hidden state : [[-0.9966289   0.3423102   0.00100422]], shape: (1, 3)\n"
          ]
        }
      ]
    },
    {
      "cell_type": "code",
      "source": [
        "# LSTM 이해"
      ],
      "metadata": {
        "id": "re7pAIFG2-dP"
      },
      "execution_count": 13,
      "outputs": []
    },
    {
      "cell_type": "code",
      "source": [
        "lstm = LSTM(3, return_sequences=False, return_state=True)\n",
        "hidden_state, last_state, last_cell_state = lstm(train_X)\n",
        "\n",
        "print('hidden state : {}, shape: {}'.format(hidden_state, hidden_state.shape))\n",
        "print('last hidden state : {}, shape: {}'.format(last_state, last_state.shape))\n",
        "print('last cell state : {}, shape: {}'.format(last_cell_state, last_cell_state.shape))"
      ],
      "metadata": {
        "colab": {
          "base_uri": "https://localhost:8080/"
        },
        "id": "xSYeNII_AGg0",
        "outputId": "b4d037d7-f60f-490c-cf44-53adb133a207"
      },
      "execution_count": 14,
      "outputs": [
        {
          "output_type": "stream",
          "name": "stdout",
          "text": [
            "hidden state : [[ 0.3420489  -0.15784515 -0.30237332]], shape: (1, 3)\n",
            "last hidden state : [[ 0.3420489  -0.15784515 -0.30237332]], shape: (1, 3)\n",
            "last cell state : [[ 1.3113664  -0.77153045 -0.6084672 ]], shape: (1, 3)\n"
          ]
        }
      ]
    }
  ]
}