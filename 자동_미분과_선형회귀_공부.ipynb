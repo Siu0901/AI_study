{
  "nbformat": 4,
  "nbformat_minor": 0,
  "metadata": {
    "colab": {
      "provenance": [],
      "authorship_tag": "ABX9TyNQBhC4AipIXaYjxVMyh92D",
      "include_colab_link": true
    },
    "kernelspec": {
      "name": "python3",
      "display_name": "Python 3"
    },
    "language_info": {
      "name": "python"
    }
  },
  "cells": [
    {
      "cell_type": "markdown",
      "metadata": {
        "id": "view-in-github",
        "colab_type": "text"
      },
      "source": [
        "<a href=\"https://colab.research.google.com/github/Siu0901/AI_study/blob/main/%EC%9E%90%EB%8F%99_%EB%AF%B8%EB%B6%84%EA%B3%BC_%EC%84%A0%ED%98%95%ED%9A%8C%EA%B7%80_%EA%B3%B5%EB%B6%80.ipynb\" target=\"_parent\"><img src=\"https://colab.research.google.com/assets/colab-badge.svg\" alt=\"Open In Colab\"/></a>"
      ]
    },
    {
      "cell_type": "code",
      "execution_count": 71,
      "metadata": {
        "id": "cKP7t3DsB8l5"
      },
      "outputs": [],
      "source": [
        "import tensorflow as tf"
      ]
    },
    {
      "cell_type": "code",
      "source": [
        "w = tf.Variable(2.)\n",
        "\n",
        "def f(w):\n",
        "  y = w**2\n",
        "  z = 2*y + 5\n",
        "  return z"
      ],
      "metadata": {
        "id": "JmI2_UFvCFn9"
      },
      "execution_count": 72,
      "outputs": []
    },
    {
      "cell_type": "code",
      "source": [
        "with tf.GradientTape() as tape:\n",
        "  # 이게 뭐냐면 아까 f 함수 그 계산 과정을 기억하게 만든거임\n",
        "  # 그래도 내일 여기는 다시 한번 찾아보자\n",
        "  z = f(w)\n",
        "\n",
        "gradients = tape.gradient(z, [w])\n",
        "print(gradients)"
      ],
      "metadata": {
        "colab": {
          "base_uri": "https://localhost:8080/"
        },
        "id": "f6DvHTDVFfrz",
        "outputId": "3ce744b0-2492-4c39-904e-953b2e389e84"
      },
      "execution_count": 73,
      "outputs": [
        {
          "output_type": "stream",
          "name": "stdout",
          "text": [
            "[<tf.Tensor: shape=(), dtype=float32, numpy=8.0>]\n"
          ]
        }
      ]
    },
    {
      "cell_type": "code",
      "source": [
        "#  자동 미분을 이용한 선형 회귀 구현\n",
        "\n",
        "# 학습될 가중치 변수를 선언\n",
        "w = tf.Variable(4.0)\n",
        "b = tf.Variable(1.0)"
      ],
      "metadata": {
        "id": "5bBTmztiH6sO"
      },
      "execution_count": 74,
      "outputs": []
    },
    {
      "cell_type": "code",
      "source": [
        "@tf.function\n",
        "def hypothesis(x):\n",
        "  return w*x + b"
      ],
      "metadata": {
        "id": "8kXeWt3CH-iD"
      },
      "execution_count": 75,
      "outputs": []
    },
    {
      "cell_type": "code",
      "source": [
        "x_test = [3.5, 5, 5.5, 6]\n",
        "print(hypothesis(x_test).numpy())"
      ],
      "metadata": {
        "colab": {
          "base_uri": "https://localhost:8080/"
        },
        "id": "R9CAtnUjITc8",
        "outputId": "cb899d77-9223-48dc-dafd-86d2c5f7b7a1"
      },
      "execution_count": 76,
      "outputs": [
        {
          "output_type": "stream",
          "name": "stdout",
          "text": [
            "[15. 21. 23. 25.]\n"
          ]
        }
      ]
    },
    {
      "cell_type": "code",
      "source": [
        "@tf.function\n",
        "def mse_loss(y_pred, y):\n",
        "  # 두 개의 차이값을 제곱을 해서 평균을 취한다.\n",
        "  return tf.reduce_mean(tf.square(y_pred - y))"
      ],
      "metadata": {
        "id": "uTb6H_1eI5LF"
      },
      "execution_count": 77,
      "outputs": []
    },
    {
      "cell_type": "code",
      "source": [
        "x = [1, 2, 3, 4, 5, 6, 7, 8, 9] # 공부하는 시간\n",
        "y = [11, 22, 33, 44, 53, 66, 77, 87, 95] # 각 공부하는 시간에 맵핑되는 성적"
      ],
      "metadata": {
        "id": "gPJMI1DIJM8u"
      },
      "execution_count": 78,
      "outputs": []
    },
    {
      "cell_type": "code",
      "source": [
        "optimizer = tf.optimizers.SGD(0.01)"
      ],
      "metadata": {
        "id": "QLjYvVLmLqV0"
      },
      "execution_count": 79,
      "outputs": []
    },
    {
      "cell_type": "code",
      "source": [
        "for i in range(301):\n",
        "  with tf.GradientTape() as tape:\n",
        "    # 현재 파라미터에 기반한 입력 x에 대한 예측값을 y_pred\n",
        "    y_pred = hypothesis(x)\n",
        "\n",
        "    # 평균 제곱 오차를 계산\n",
        "    cost = mse_loss(y_pred, y)\n",
        "\n",
        "  # 손실 함수에 대한 파라미터의 미분값 계산\n",
        "  gradients = tape.gradient(cost, [w, b])\n",
        "\n",
        "  # 파라미터 업데이트\n",
        "  # 아까 위에서 선언했던 w와 b값을 업데이트 한거임\n",
        "  # 대충 약간 포인터 비스무리하게 이해하면 됨\n",
        "  # 기존 변수에 메모리 값만 새로 바꾼 그런 느낌\n",
        "  optimizer.apply_gradients(zip(gradients, [w, b]))\n",
        "\n",
        "  if i % 10 == 0:\n",
        "    print(\"epoch : {:3} | w의 값 : {:5.4f} | b의 값 : {:5.4} | cost : {:5.6f}\".format(i, w.numpy(), b.numpy(), cost))"
      ],
      "metadata": {
        "colab": {
          "base_uri": "https://localhost:8080/"
        },
        "id": "W4UmIZOLLvQ5",
        "outputId": "14c7517c-721d-45e4-8171-453e993a5f91"
      },
      "execution_count": 82,
      "outputs": [
        {
          "output_type": "stream",
          "name": "stdout",
          "text": [
            "epoch :   0 | w의 값 : 10.6271 | b의 값 : 1.159 | cost : 1.086422\n",
            "epoch :  10 | w의 값 : 10.6294 | b의 값 : 1.145 | cost : 1.084326\n",
            "epoch :  20 | w의 값 : 10.6316 | b의 값 : 1.131 | cost : 1.082394\n",
            "epoch :  30 | w의 값 : 10.6337 | b의 값 : 1.118 | cost : 1.080612\n",
            "epoch :  40 | w의 값 : 10.6357 | b의 값 : 1.105 | cost : 1.078975\n",
            "epoch :  50 | w의 값 : 10.6376 | b의 값 : 1.093 | cost : 1.077464\n",
            "epoch :  60 | w의 값 : 10.6394 | b의 값 : 1.082 | cost : 1.076078\n",
            "epoch :  70 | w의 값 : 10.6412 | b의 값 : 1.071 | cost : 1.074798\n",
            "epoch :  80 | w의 값 : 10.6429 | b의 값 :  1.06 | cost : 1.073615\n",
            "epoch :  90 | w의 값 : 10.6445 | b의 값 :  1.05 | cost : 1.072532\n",
            "epoch : 100 | w의 값 : 10.6461 | b의 값 :  1.04 | cost : 1.071532\n",
            "epoch : 110 | w의 값 : 10.6476 | b의 값 :  1.03 | cost : 1.070612\n",
            "epoch : 120 | w의 값 : 10.6490 | b의 값 : 1.021 | cost : 1.069761\n",
            "epoch : 130 | w의 값 : 10.6504 | b의 값 : 1.013 | cost : 1.068979\n",
            "epoch : 140 | w의 값 : 10.6517 | b의 값 : 1.004 | cost : 1.068262\n",
            "epoch : 150 | w의 값 : 10.6530 | b의 값 : 0.9963 | cost : 1.067602\n",
            "epoch : 160 | w의 값 : 10.6542 | b의 값 : 0.9886 | cost : 1.066988\n",
            "epoch : 170 | w의 값 : 10.6554 | b의 값 : 0.9812 | cost : 1.066428\n",
            "epoch : 180 | w의 값 : 10.6565 | b의 값 : 0.9741 | cost : 1.065908\n",
            "epoch : 190 | w의 값 : 10.6576 | b의 값 : 0.9673 | cost : 1.065431\n",
            "epoch : 200 | w의 값 : 10.6587 | b의 값 : 0.9608 | cost : 1.064996\n",
            "epoch : 210 | w의 값 : 10.6597 | b의 값 : 0.9545 | cost : 1.064592\n",
            "epoch : 220 | w의 값 : 10.6606 | b의 값 : 0.9485 | cost : 1.064216\n",
            "epoch : 230 | w의 값 : 10.6615 | b의 값 : 0.9428 | cost : 1.063875\n",
            "epoch : 240 | w의 값 : 10.6624 | b의 값 : 0.9372 | cost : 1.063560\n",
            "epoch : 250 | w의 값 : 10.6632 | b의 값 : 0.9319 | cost : 1.063268\n",
            "epoch : 260 | w의 값 : 10.6641 | b의 값 : 0.9268 | cost : 1.062996\n",
            "epoch : 270 | w의 값 : 10.6648 | b의 값 : 0.9219 | cost : 1.062754\n",
            "epoch : 280 | w의 값 : 10.6656 | b의 값 : 0.9172 | cost : 1.062526\n",
            "epoch : 290 | w의 값 : 10.6663 | b의 값 : 0.9127 | cost : 1.062317\n",
            "epoch : 300 | w의 값 : 10.6670 | b의 값 : 0.9084 | cost : 1.062121\n"
          ]
        }
      ]
    },
    {
      "cell_type": "code",
      "source": [
        "x_test = [1,2,3,4,5,6,7,8,9,10]\n",
        "print(hypothesis(x_test).numpy())"
      ],
      "metadata": {
        "colab": {
          "base_uri": "https://localhost:8080/"
        },
        "id": "QkBgwI8pOPCV",
        "outputId": "8923e22b-69e4-446c-d94d-862a8a0c393a"
      },
      "execution_count": 84,
      "outputs": [
        {
          "output_type": "stream",
          "name": "stdout",
          "text": [
            "[ 11.575407  22.242393  32.909378  43.576363  54.243347  64.91034\n",
            "  75.577324  86.24431   96.91129  107.57828 ]\n"
          ]
        }
      ]
    }
  ]
}