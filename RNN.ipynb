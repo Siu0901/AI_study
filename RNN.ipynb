{
  "nbformat": 4,
  "nbformat_minor": 0,
  "metadata": {
    "colab": {
      "provenance": [],
      "authorship_tag": "ABX9TyMLyCCJ7ArNQaqrpYeY786k",
      "include_colab_link": true
    },
    "kernelspec": {
      "name": "python3",
      "display_name": "Python 3"
    },
    "language_info": {
      "name": "python"
    }
  },
  "cells": [
    {
      "cell_type": "markdown",
      "metadata": {
        "id": "view-in-github",
        "colab_type": "text"
      },
      "source": [
        "<a href=\"https://colab.research.google.com/github/Siu0901/AI_study/blob/main/RNN.ipynb\" target=\"_parent\"><img src=\"https://colab.research.google.com/assets/colab-badge.svg\" alt=\"Open In Colab\"/></a>"
      ]
    },
    {
      "cell_type": "code",
      "execution_count": 7,
      "metadata": {
        "colab": {
          "base_uri": "https://localhost:8080/"
        },
        "id": "mItfl1eQhD6B",
        "outputId": "e149b165-6646-4071-c739-3bb933820f37"
      },
      "outputs": [
        {
          "output_type": "stream",
          "name": "stdout",
          "text": [
            "초기 은닉 상태 : [0. 0. 0. 0. 0. 0. 0. 0.]\n"
          ]
        }
      ],
      "source": [
        "import numpy as np\n",
        "\n",
        "timesteps = 10\n",
        "input_dim = 4\n",
        "hidden_units = 8\n",
        "\n",
        "# 입력에 해당되는 2D 텐서\n",
        "inputs = np.random.random((timesteps, input_dim))\n",
        "\n",
        "# 초기 은닉 상태는 0(벡터)로 초기화\n",
        "hidden_state_t = np.zeros((hidden_units,))\n",
        "\n",
        "print('초기 은닉 상태 :',hidden_state_t)"
      ]
    },
    {
      "cell_type": "code",
      "source": [
        "Wx = np.random.random((hidden_units, input_dim))  # (8, 4)크기의 2D 텐서 생성. 입력에 대한 가중치.\n",
        "Wh = np.random.random((hidden_units, hidden_units)) # (8, 8)크기의 2D 텐서 생성. 은닉 상태에 대한 가중치.\n",
        "b = np.random.random((hidden_units,)) # (8,)크기의 1D 텐서 생성. 이 값은 편향(bias).\n",
        "\n",
        "print('가중치 Wx의 크기(shape) :',np.shape(Wx))\n",
        "print('가중치 Wh의 크기(shape) :',np.shape(Wh))\n",
        "print('편향의 크기(shape) :',np.shape(b))"
      ],
      "metadata": {
        "colab": {
          "base_uri": "https://localhost:8080/"
        },
        "id": "nD71cUIFtCvO",
        "outputId": "932feb05-d1f3-43b5-b04c-715e72a15a34"
      },
      "execution_count": 9,
      "outputs": [
        {
          "output_type": "stream",
          "name": "stdout",
          "text": [
            "가중치 Wx의 크기(shape) : (8, 4)\n",
            "가중치 Wh의 크기(shape) : (8, 8)\n",
            "편향의 크기(shape) : (8,)\n"
          ]
        }
      ]
    },
    {
      "cell_type": "code",
      "source": [
        "total_hidden_states = []\n",
        "\n",
        "# 각 시점 별 입력값.\n",
        "for input_t in inputs:\n",
        "\n",
        "  # Wx * Xt + Wh * Ht-1 + b(bias)\n",
        "  output_t = np.tanh(np.dot(Wx,input_t) + np.dot(Wh,hidden_state_t) + b)\n",
        "\n",
        "  # 각 시점 t별 메모리 셀의 출력의 크기는 (timestep t, output_dim)\n",
        "  # 각 시점의 은닉 상태의 값을 계속해서 누적\n",
        "  total_hidden_states.append(list(output_t))\n",
        "  hidden_state_t = output_t\n",
        "\n",
        "# 출력 시 값을 깔끔하게 해주는 용도.\n",
        "total_hidden_states = np.stack(total_hidden_states, axis = 0)\n",
        "\n",
        "# (timesteps, output_dim)\n",
        "print('모든 시점의 은닉 상태 :')\n",
        "print(total_hidden_states)"
      ],
      "metadata": {
        "colab": {
          "base_uri": "https://localhost:8080/"
        },
        "id": "Q5no_yhNt2OG",
        "outputId": "25dae61b-408c-4f12-e4df-57f37f7e9744"
      },
      "execution_count": 10,
      "outputs": [
        {
          "output_type": "stream",
          "name": "stdout",
          "text": [
            "모든 시점의 은닉 상태 :\n",
            "[[0.79532816 0.84913917 0.72300353 0.89694776 0.92786334 0.89371826\n",
            "  0.87537754 0.70728396]\n",
            " [0.99992203 0.99960818 0.99776056 0.99988518 0.99976115 0.99760325\n",
            "  0.99991511 0.99981552]\n",
            " [0.99998979 0.99988169 0.9990078  0.99995901 0.99992545 0.99889412\n",
            "  0.9999925  0.99996565]\n",
            " [0.99999197 0.99990657 0.99925928 0.99998041 0.99992607 0.99895556\n",
            "  0.99999458 0.99996674]\n",
            " [0.99999307 0.99994012 0.99925429 0.99998827 0.99984973 0.99938148\n",
            "  0.99999623 0.99997828]\n",
            " [0.99999296 0.99990766 0.99866484 0.99995501 0.99986292 0.99934673\n",
            "  0.99999588 0.99998154]\n",
            " [0.9999814  0.9998064  0.99875958 0.99993342 0.99989228 0.9983534\n",
            "  0.99998484 0.99994353]\n",
            " [0.99998782 0.99981336 0.99833386 0.99992969 0.999804   0.99877036\n",
            "  0.99999213 0.99996369]\n",
            " [0.99999131 0.99993071 0.99935337 0.9999857  0.99991859 0.99917097\n",
            "  0.99999424 0.99997011]\n",
            " [0.9999936  0.99995844 0.9996277  0.99999447 0.99995336 0.99929279\n",
            "  0.99999577 0.99997291]]\n"
          ]
        }
      ]
    }
  ]
}