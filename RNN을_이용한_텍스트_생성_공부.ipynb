{
  "nbformat": 4,
  "nbformat_minor": 0,
  "metadata": {
    "colab": {
      "provenance": [],
      "authorship_tag": "ABX9TyNGc71K/fNL9V0P7qxRvcRm",
      "include_colab_link": true
    },
    "kernelspec": {
      "name": "python3",
      "display_name": "Python 3"
    },
    "language_info": {
      "name": "python"
    }
  },
  "cells": [
    {
      "cell_type": "markdown",
      "metadata": {
        "id": "view-in-github",
        "colab_type": "text"
      },
      "source": [
        "<a href=\"https://colab.research.google.com/github/Siu0901/AI_study/blob/main/RNN%EC%9D%84_%EC%9D%B4%EC%9A%A9%ED%95%9C_%ED%85%8D%EC%8A%A4%ED%8A%B8_%EC%83%9D%EC%84%B1_%EA%B3%B5%EB%B6%80.ipynb\" target=\"_parent\"><img src=\"https://colab.research.google.com/assets/colab-badge.svg\" alt=\"Open In Colab\"/></a>"
      ]
    },
    {
      "cell_type": "code",
      "execution_count": 1,
      "metadata": {
        "id": "2VOHybIv7jvD"
      },
      "outputs": [],
      "source": [
        "import numpy as np\n",
        "from tensorflow.keras.preprocessing.text import Tokenizer\n",
        "from tensorflow.keras.preprocessing.sequence import pad_sequences\n",
        "from tensorflow.keras.utils import to_categorical"
      ]
    },
    {
      "cell_type": "code",
      "source": [
        "text = \"\"\"경마장에 있는 말이 뛰고 있다\\n\n",
        "그의 말이 법이다\\n\n",
        "가는 말이 고와야 오는 말이 곱다\\n\"\"\""
      ],
      "metadata": {
        "id": "fBGDRMhu7qQd"
      },
      "execution_count": 2,
      "outputs": []
    },
    {
      "cell_type": "code",
      "source": [
        "tokenizer = Tokenizer()\n",
        "tokenizer.fit_on_texts([text])\n",
        "vocab_size = len(tokenizer.word_index) + 1\n",
        "print('단어 집합의 크기 : %d' % vocab_size)"
      ],
      "metadata": {
        "colab": {
          "base_uri": "https://localhost:8080/"
        },
        "id": "Tk3nGh958PPu",
        "outputId": "14197534-fa4a-46eb-d06b-06339e4b7923"
      },
      "execution_count": 3,
      "outputs": [
        {
          "output_type": "stream",
          "name": "stdout",
          "text": [
            "단어 집합의 크기 : 12\n"
          ]
        }
      ]
    },
    {
      "cell_type": "code",
      "source": [
        "print(tokenizer.word_index)"
      ],
      "metadata": {
        "colab": {
          "base_uri": "https://localhost:8080/"
        },
        "id": "i6asRgzs8g_C",
        "outputId": "f1947147-47c4-4c31-ae4c-2dbbbe43b050"
      },
      "execution_count": 4,
      "outputs": [
        {
          "output_type": "stream",
          "name": "stdout",
          "text": [
            "{'말이': 1, '경마장에': 2, '있는': 3, '뛰고': 4, '있다': 5, '그의': 6, '법이다': 7, '가는': 8, '고와야': 9, '오는': 10, '곱다': 11}\n"
          ]
        }
      ]
    },
    {
      "cell_type": "code",
      "source": [
        "sequences = list()\n",
        "for line in text.split('\\n'):\n",
        "  encoded = tokenizer.texts_to_sequences([line])[0]\n",
        "  print(encoded)\n",
        "  for i in range(1, len(encoded)):\n",
        "    sequence = encoded[:i+1]\n",
        "    sequences.append(sequence)\n",
        "\n",
        "print('학습에 사용할 샘플의 개수 : %d' % len(sequences))"
      ],
      "metadata": {
        "colab": {
          "base_uri": "https://localhost:8080/"
        },
        "id": "o95dwL3B8lR6",
        "outputId": "15756efc-cde5-4b24-fa7d-e9b851933de0"
      },
      "execution_count": 6,
      "outputs": [
        {
          "output_type": "stream",
          "name": "stdout",
          "text": [
            "[2, 3, 1, 4, 5]\n",
            "[]\n",
            "[6, 1, 7]\n",
            "[]\n",
            "[8, 1, 9, 10, 1, 11]\n",
            "[]\n",
            "학습에 사용할 샘플의 개수 : 11\n"
          ]
        }
      ]
    },
    {
      "cell_type": "code",
      "source": [
        "print(sequences)"
      ],
      "metadata": {
        "colab": {
          "base_uri": "https://localhost:8080/"
        },
        "id": "zX00snZO-hcl",
        "outputId": "1c6c40c5-dbc8-4033-fd49-7720f7d882f2"
      },
      "execution_count": 7,
      "outputs": [
        {
          "output_type": "stream",
          "name": "stdout",
          "text": [
            "[[2, 3], [2, 3, 1], [2, 3, 1, 4], [2, 3, 1, 4, 5], [6, 1], [6, 1, 7], [8, 1], [8, 1, 9], [8, 1, 9, 10], [8, 1, 9, 10, 1], [8, 1, 9, 10, 1, 11]]\n"
          ]
        }
      ]
    },
    {
      "cell_type": "code",
      "source": [
        "max_len = max(len(l) for l in sequences)\n",
        "max_len"
      ],
      "metadata": {
        "colab": {
          "base_uri": "https://localhost:8080/"
        },
        "id": "fEOWe49F_udU",
        "outputId": "47c241dd-9e7d-42fc-801e-d09ff921d801"
      },
      "execution_count": 8,
      "outputs": [
        {
          "output_type": "execute_result",
          "data": {
            "text/plain": [
              "6"
            ]
          },
          "metadata": {},
          "execution_count": 8
        }
      ]
    },
    {
      "cell_type": "code",
      "source": [
        "sequences = pad_sequences(sequences, maxlen=max_len, padding='pre')\n",
        "print(sequences)"
      ],
      "metadata": {
        "colab": {
          "base_uri": "https://localhost:8080/"
        },
        "id": "gIS9qqBJ_-8x",
        "outputId": "903454fb-1c4b-4e81-ae58-855243d777a7"
      },
      "execution_count": 9,
      "outputs": [
        {
          "output_type": "stream",
          "name": "stdout",
          "text": [
            "[[ 0  0  0  0  2  3]\n",
            " [ 0  0  0  2  3  1]\n",
            " [ 0  0  2  3  1  4]\n",
            " [ 0  2  3  1  4  5]\n",
            " [ 0  0  0  0  6  1]\n",
            " [ 0  0  0  6  1  7]\n",
            " [ 0  0  0  0  8  1]\n",
            " [ 0  0  0  8  1  9]\n",
            " [ 0  0  8  1  9 10]\n",
            " [ 0  8  1  9 10  1]\n",
            " [ 8  1  9 10  1 11]]\n"
          ]
        }
      ]
    },
    {
      "cell_type": "code",
      "source": [
        "# 각 샘플의 마지막 단어를 레이블로 분리\n",
        "sequences = np.array(sequences)\n",
        "X = sequences[:,:-1]\n",
        "y = sequences[:,-1]"
      ],
      "metadata": {
        "id": "xPNDZk-YAW3d"
      },
      "execution_count": 10,
      "outputs": []
    },
    {
      "cell_type": "code",
      "source": [
        "print(X)\n",
        "print(y)"
      ],
      "metadata": {
        "colab": {
          "base_uri": "https://localhost:8080/"
        },
        "id": "S1mmzL7CBIS0",
        "outputId": "48d3e254-71f3-4cc4-f91c-54a9f3fec42b"
      },
      "execution_count": 11,
      "outputs": [
        {
          "output_type": "stream",
          "name": "stdout",
          "text": [
            "[[ 0  0  0  0  2]\n",
            " [ 0  0  0  2  3]\n",
            " [ 0  0  2  3  1]\n",
            " [ 0  2  3  1  4]\n",
            " [ 0  0  0  0  6]\n",
            " [ 0  0  0  6  1]\n",
            " [ 0  0  0  0  8]\n",
            " [ 0  0  0  8  1]\n",
            " [ 0  0  8  1  9]\n",
            " [ 0  8  1  9 10]\n",
            " [ 8  1  9 10  1]]\n",
            "[ 3  1  4  5  1  7  1  9 10  1 11]\n"
          ]
        }
      ]
    },
    {
      "cell_type": "code",
      "source": [
        "y = to_categorical(y, num_classes=vocab_size)"
      ],
      "metadata": {
        "id": "F_TBOaDZBWRa"
      },
      "execution_count": 12,
      "outputs": []
    },
    {
      "cell_type": "code",
      "source": [
        "print(y)"
      ],
      "metadata": {
        "colab": {
          "base_uri": "https://localhost:8080/"
        },
        "id": "IS6aDkSIBX7z",
        "outputId": "b1f5e0cd-ac1c-465e-d674-48f674908ada"
      },
      "execution_count": 13,
      "outputs": [
        {
          "output_type": "stream",
          "name": "stdout",
          "text": [
            "[[0. 0. 0. 1. 0. 0. 0. 0. 0. 0. 0. 0.]\n",
            " [0. 1. 0. 0. 0. 0. 0. 0. 0. 0. 0. 0.]\n",
            " [0. 0. 0. 0. 1. 0. 0. 0. 0. 0. 0. 0.]\n",
            " [0. 0. 0. 0. 0. 1. 0. 0. 0. 0. 0. 0.]\n",
            " [0. 1. 0. 0. 0. 0. 0. 0. 0. 0. 0. 0.]\n",
            " [0. 0. 0. 0. 0. 0. 0. 1. 0. 0. 0. 0.]\n",
            " [0. 1. 0. 0. 0. 0. 0. 0. 0. 0. 0. 0.]\n",
            " [0. 0. 0. 0. 0. 0. 0. 0. 0. 1. 0. 0.]\n",
            " [0. 0. 0. 0. 0. 0. 0. 0. 0. 0. 1. 0.]\n",
            " [0. 1. 0. 0. 0. 0. 0. 0. 0. 0. 0. 0.]\n",
            " [0. 0. 0. 0. 0. 0. 0. 0. 0. 0. 0. 1.]]\n"
          ]
        }
      ]
    },
    {
      "cell_type": "code",
      "source": [
        "# 모델 설계하기"
      ],
      "metadata": {
        "id": "xyOw48bBBmAq"
      },
      "execution_count": null,
      "outputs": []
    },
    {
      "cell_type": "code",
      "source": [
        "from tensorflow.keras.models import Sequential\n",
        "from tensorflow.keras.layers import Embedding, Dense, SimpleRNN"
      ],
      "metadata": {
        "id": "Wvd2-gMYBnyC"
      },
      "execution_count": 14,
      "outputs": []
    },
    {
      "cell_type": "code",
      "source": [
        "# 임베딩 벡터 차원 10\n",
        "embedding_dim = 10\n",
        "hidden_units = 32\n",
        "\n",
        "model = Sequential()\n",
        "model.add(Embedding(vocab_size, embedding_dim))\n",
        "model.add(SimpleRNN(hidden_units))\n",
        "model.add(Dense(vocab_size, activation='softmax'))\n",
        "model.compile(loss='categorical_crossentropy', optimizer='adam', metrics=['accuracy'])\n",
        "model.fit(X, y, epochs=200, verbose=2)"
      ],
      "metadata": {
        "colab": {
          "base_uri": "https://localhost:8080/"
        },
        "id": "Oah-h9LpCCQ3",
        "outputId": "7c9deee1-a36d-4f14-fe9d-1c54807c0814"
      },
      "execution_count": 15,
      "outputs": [
        {
          "output_type": "stream",
          "name": "stdout",
          "text": [
            "Epoch 1/200\n",
            "1/1 - 2s - 2s/step - accuracy: 0.1818 - loss: 2.4621\n",
            "Epoch 2/200\n",
            "1/1 - 0s - 46ms/step - accuracy: 0.1818 - loss: 2.4495\n",
            "Epoch 3/200\n",
            "1/1 - 0s - 45ms/step - accuracy: 0.1818 - loss: 2.4366\n",
            "Epoch 4/200\n",
            "1/1 - 0s - 44ms/step - accuracy: 0.1818 - loss: 2.4233\n",
            "Epoch 5/200\n",
            "1/1 - 0s - 44ms/step - accuracy: 0.0909 - loss: 2.4095\n",
            "Epoch 6/200\n",
            "1/1 - 0s - 55ms/step - accuracy: 0.1818 - loss: 2.3952\n",
            "Epoch 7/200\n",
            "1/1 - 0s - 52ms/step - accuracy: 0.1818 - loss: 2.3803\n",
            "Epoch 8/200\n",
            "1/1 - 0s - 44ms/step - accuracy: 0.1818 - loss: 2.3646\n",
            "Epoch 9/200\n",
            "1/1 - 0s - 46ms/step - accuracy: 0.1818 - loss: 2.3483\n",
            "Epoch 10/200\n",
            "1/1 - 0s - 44ms/step - accuracy: 0.1818 - loss: 2.3311\n",
            "Epoch 11/200\n",
            "1/1 - 0s - 44ms/step - accuracy: 0.1818 - loss: 2.3130\n",
            "Epoch 12/200\n",
            "1/1 - 0s - 50ms/step - accuracy: 0.1818 - loss: 2.2940\n",
            "Epoch 13/200\n",
            "1/1 - 0s - 46ms/step - accuracy: 0.2727 - loss: 2.2741\n",
            "Epoch 14/200\n",
            "1/1 - 0s - 45ms/step - accuracy: 0.3636 - loss: 2.2533\n",
            "Epoch 15/200\n",
            "1/1 - 0s - 44ms/step - accuracy: 0.4545 - loss: 2.2315\n",
            "Epoch 16/200\n",
            "1/1 - 0s - 48ms/step - accuracy: 0.4545 - loss: 2.2088\n",
            "Epoch 17/200\n",
            "1/1 - 0s - 47ms/step - accuracy: 0.4545 - loss: 2.1853\n",
            "Epoch 18/200\n",
            "1/1 - 0s - 51ms/step - accuracy: 0.4545 - loss: 2.1609\n",
            "Epoch 19/200\n",
            "1/1 - 0s - 47ms/step - accuracy: 0.4545 - loss: 2.1359\n",
            "Epoch 20/200\n",
            "1/1 - 0s - 47ms/step - accuracy: 0.4545 - loss: 2.1102\n",
            "Epoch 21/200\n",
            "1/1 - 0s - 46ms/step - accuracy: 0.4545 - loss: 2.0840\n",
            "Epoch 22/200\n",
            "1/1 - 0s - 46ms/step - accuracy: 0.4545 - loss: 2.0575\n",
            "Epoch 23/200\n",
            "1/1 - 0s - 46ms/step - accuracy: 0.4545 - loss: 2.0308\n",
            "Epoch 24/200\n",
            "1/1 - 0s - 45ms/step - accuracy: 0.4545 - loss: 2.0040\n",
            "Epoch 25/200\n",
            "1/1 - 0s - 44ms/step - accuracy: 0.3636 - loss: 1.9773\n",
            "Epoch 26/200\n",
            "1/1 - 0s - 46ms/step - accuracy: 0.3636 - loss: 1.9506\n",
            "Epoch 27/200\n",
            "1/1 - 0s - 58ms/step - accuracy: 0.3636 - loss: 1.9242\n",
            "Epoch 28/200\n",
            "1/1 - 0s - 45ms/step - accuracy: 0.3636 - loss: 1.8981\n",
            "Epoch 29/200\n",
            "1/1 - 0s - 45ms/step - accuracy: 0.3636 - loss: 1.8723\n",
            "Epoch 30/200\n",
            "1/1 - 0s - 45ms/step - accuracy: 0.3636 - loss: 1.8469\n",
            "Epoch 31/200\n",
            "1/1 - 0s - 45ms/step - accuracy: 0.3636 - loss: 1.8218\n",
            "Epoch 32/200\n",
            "1/1 - 0s - 50ms/step - accuracy: 0.3636 - loss: 1.7970\n",
            "Epoch 33/200\n",
            "1/1 - 0s - 46ms/step - accuracy: 0.3636 - loss: 1.7725\n",
            "Epoch 34/200\n",
            "1/1 - 0s - 48ms/step - accuracy: 0.3636 - loss: 1.7483\n",
            "Epoch 35/200\n",
            "1/1 - 0s - 50ms/step - accuracy: 0.3636 - loss: 1.7244\n",
            "Epoch 36/200\n",
            "1/1 - 0s - 47ms/step - accuracy: 0.3636 - loss: 1.7007\n",
            "Epoch 37/200\n",
            "1/1 - 0s - 50ms/step - accuracy: 0.4545 - loss: 1.6772\n",
            "Epoch 38/200\n",
            "1/1 - 0s - 48ms/step - accuracy: 0.4545 - loss: 1.6539\n",
            "Epoch 39/200\n",
            "1/1 - 0s - 46ms/step - accuracy: 0.4545 - loss: 1.6307\n",
            "Epoch 40/200\n",
            "1/1 - 0s - 45ms/step - accuracy: 0.4545 - loss: 1.6076\n",
            "Epoch 41/200\n",
            "1/1 - 0s - 47ms/step - accuracy: 0.4545 - loss: 1.5845\n",
            "Epoch 42/200\n",
            "1/1 - 0s - 47ms/step - accuracy: 0.4545 - loss: 1.5614\n",
            "Epoch 43/200\n",
            "1/1 - 0s - 45ms/step - accuracy: 0.4545 - loss: 1.5383\n",
            "Epoch 44/200\n",
            "1/1 - 0s - 47ms/step - accuracy: 0.4545 - loss: 1.5152\n",
            "Epoch 45/200\n",
            "1/1 - 0s - 47ms/step - accuracy: 0.4545 - loss: 1.4921\n",
            "Epoch 46/200\n",
            "1/1 - 0s - 45ms/step - accuracy: 0.4545 - loss: 1.4691\n",
            "Epoch 47/200\n",
            "1/1 - 0s - 60ms/step - accuracy: 0.4545 - loss: 1.4461\n",
            "Epoch 48/200\n",
            "1/1 - 0s - 47ms/step - accuracy: 0.4545 - loss: 1.4232\n",
            "Epoch 49/200\n",
            "1/1 - 0s - 46ms/step - accuracy: 0.4545 - loss: 1.4006\n",
            "Epoch 50/200\n",
            "1/1 - 0s - 47ms/step - accuracy: 0.4545 - loss: 1.3781\n",
            "Epoch 51/200\n",
            "1/1 - 0s - 44ms/step - accuracy: 0.4545 - loss: 1.3560\n",
            "Epoch 52/200\n",
            "1/1 - 0s - 45ms/step - accuracy: 0.4545 - loss: 1.3342\n",
            "Epoch 53/200\n",
            "1/1 - 0s - 51ms/step - accuracy: 0.5455 - loss: 1.3127\n",
            "Epoch 54/200\n",
            "1/1 - 0s - 46ms/step - accuracy: 0.6364 - loss: 1.2915\n",
            "Epoch 55/200\n",
            "1/1 - 0s - 47ms/step - accuracy: 0.6364 - loss: 1.2706\n",
            "Epoch 56/200\n",
            "1/1 - 0s - 44ms/step - accuracy: 0.6364 - loss: 1.2500\n",
            "Epoch 57/200\n",
            "1/1 - 0s - 46ms/step - accuracy: 0.6364 - loss: 1.2297\n",
            "Epoch 58/200\n",
            "1/1 - 0s - 51ms/step - accuracy: 0.6364 - loss: 1.2096\n",
            "Epoch 59/200\n",
            "1/1 - 0s - 47ms/step - accuracy: 0.6364 - loss: 1.1897\n",
            "Epoch 60/200\n",
            "1/1 - 0s - 63ms/step - accuracy: 0.6364 - loss: 1.1701\n",
            "Epoch 61/200\n",
            "1/1 - 0s - 86ms/step - accuracy: 0.6364 - loss: 1.1506\n",
            "Epoch 62/200\n",
            "1/1 - 0s - 136ms/step - accuracy: 0.6364 - loss: 1.1314\n",
            "Epoch 63/200\n",
            "1/1 - 0s - 74ms/step - accuracy: 0.7273 - loss: 1.1123\n",
            "Epoch 64/200\n",
            "1/1 - 0s - 142ms/step - accuracy: 0.7273 - loss: 1.0935\n",
            "Epoch 65/200\n",
            "1/1 - 0s - 68ms/step - accuracy: 0.7273 - loss: 1.0749\n",
            "Epoch 66/200\n",
            "1/1 - 0s - 141ms/step - accuracy: 0.7273 - loss: 1.0566\n",
            "Epoch 67/200\n",
            "1/1 - 0s - 138ms/step - accuracy: 0.7273 - loss: 1.0385\n",
            "Epoch 68/200\n",
            "1/1 - 0s - 143ms/step - accuracy: 0.7273 - loss: 1.0207\n",
            "Epoch 69/200\n",
            "1/1 - 0s - 141ms/step - accuracy: 0.7273 - loss: 1.0032\n",
            "Epoch 70/200\n",
            "1/1 - 0s - 138ms/step - accuracy: 0.7273 - loss: 0.9861\n",
            "Epoch 71/200\n",
            "1/1 - 0s - 160ms/step - accuracy: 0.7273 - loss: 0.9693\n",
            "Epoch 72/200\n",
            "1/1 - 0s - 74ms/step - accuracy: 0.8182 - loss: 0.9528\n",
            "Epoch 73/200\n",
            "1/1 - 0s - 138ms/step - accuracy: 0.8182 - loss: 0.9366\n",
            "Epoch 74/200\n",
            "1/1 - 0s - 71ms/step - accuracy: 0.8182 - loss: 0.9207\n",
            "Epoch 75/200\n",
            "1/1 - 0s - 78ms/step - accuracy: 0.8182 - loss: 0.9052\n",
            "Epoch 76/200\n",
            "1/1 - 0s - 139ms/step - accuracy: 0.8182 - loss: 0.8900\n",
            "Epoch 77/200\n",
            "1/1 - 0s - 74ms/step - accuracy: 0.8182 - loss: 0.8751\n",
            "Epoch 78/200\n",
            "1/1 - 0s - 70ms/step - accuracy: 0.8182 - loss: 0.8605\n",
            "Epoch 79/200\n",
            "1/1 - 0s - 44ms/step - accuracy: 0.8182 - loss: 0.8462\n",
            "Epoch 80/200\n",
            "1/1 - 0s - 44ms/step - accuracy: 0.8182 - loss: 0.8322\n",
            "Epoch 81/200\n",
            "1/1 - 0s - 45ms/step - accuracy: 0.8182 - loss: 0.8185\n",
            "Epoch 82/200\n",
            "1/1 - 0s - 46ms/step - accuracy: 0.8182 - loss: 0.8051\n",
            "Epoch 83/200\n",
            "1/1 - 0s - 46ms/step - accuracy: 0.8182 - loss: 0.7919\n",
            "Epoch 84/200\n",
            "1/1 - 0s - 45ms/step - accuracy: 0.8182 - loss: 0.7790\n",
            "Epoch 85/200\n",
            "1/1 - 0s - 58ms/step - accuracy: 0.8182 - loss: 0.7664\n",
            "Epoch 86/200\n",
            "1/1 - 0s - 45ms/step - accuracy: 0.8182 - loss: 0.7541\n",
            "Epoch 87/200\n",
            "1/1 - 0s - 47ms/step - accuracy: 0.8182 - loss: 0.7420\n",
            "Epoch 88/200\n",
            "1/1 - 0s - 51ms/step - accuracy: 0.8182 - loss: 0.7302\n",
            "Epoch 89/200\n",
            "1/1 - 0s - 43ms/step - accuracy: 0.8182 - loss: 0.7186\n",
            "Epoch 90/200\n",
            "1/1 - 0s - 45ms/step - accuracy: 0.8182 - loss: 0.7072\n",
            "Epoch 91/200\n",
            "1/1 - 0s - 45ms/step - accuracy: 0.8182 - loss: 0.6961\n",
            "Epoch 92/200\n",
            "1/1 - 0s - 46ms/step - accuracy: 0.8182 - loss: 0.6853\n",
            "Epoch 93/200\n",
            "1/1 - 0s - 43ms/step - accuracy: 0.8182 - loss: 0.6746\n",
            "Epoch 94/200\n",
            "1/1 - 0s - 47ms/step - accuracy: 0.8182 - loss: 0.6642\n",
            "Epoch 95/200\n",
            "1/1 - 0s - 43ms/step - accuracy: 0.8182 - loss: 0.6540\n",
            "Epoch 96/200\n",
            "1/1 - 0s - 47ms/step - accuracy: 0.8182 - loss: 0.6440\n",
            "Epoch 97/200\n",
            "1/1 - 0s - 45ms/step - accuracy: 0.8182 - loss: 0.6343\n",
            "Epoch 98/200\n",
            "1/1 - 0s - 47ms/step - accuracy: 0.9091 - loss: 0.6247\n",
            "Epoch 99/200\n",
            "1/1 - 0s - 46ms/step - accuracy: 0.9091 - loss: 0.6154\n",
            "Epoch 100/200\n",
            "1/1 - 0s - 45ms/step - accuracy: 0.9091 - loss: 0.6063\n",
            "Epoch 101/200\n",
            "1/1 - 0s - 47ms/step - accuracy: 0.9091 - loss: 0.5974\n",
            "Epoch 102/200\n",
            "1/1 - 0s - 52ms/step - accuracy: 0.9091 - loss: 0.5886\n",
            "Epoch 103/200\n",
            "1/1 - 0s - 47ms/step - accuracy: 0.9091 - loss: 0.5801\n",
            "Epoch 104/200\n",
            "1/1 - 0s - 47ms/step - accuracy: 0.9091 - loss: 0.5717\n",
            "Epoch 105/200\n",
            "1/1 - 0s - 56ms/step - accuracy: 0.9091 - loss: 0.5635\n",
            "Epoch 106/200\n",
            "1/1 - 0s - 48ms/step - accuracy: 0.9091 - loss: 0.5555\n",
            "Epoch 107/200\n",
            "1/1 - 0s - 48ms/step - accuracy: 0.9091 - loss: 0.5477\n",
            "Epoch 108/200\n",
            "1/1 - 0s - 45ms/step - accuracy: 0.9091 - loss: 0.5400\n",
            "Epoch 109/200\n",
            "1/1 - 0s - 49ms/step - accuracy: 0.9091 - loss: 0.5325\n",
            "Epoch 110/200\n",
            "1/1 - 0s - 45ms/step - accuracy: 0.9091 - loss: 0.5251\n",
            "Epoch 111/200\n",
            "1/1 - 0s - 45ms/step - accuracy: 0.9091 - loss: 0.5179\n",
            "Epoch 112/200\n",
            "1/1 - 0s - 48ms/step - accuracy: 0.9091 - loss: 0.5108\n",
            "Epoch 113/200\n",
            "1/1 - 0s - 46ms/step - accuracy: 0.9091 - loss: 0.5039\n",
            "Epoch 114/200\n",
            "1/1 - 0s - 45ms/step - accuracy: 0.9091 - loss: 0.4972\n",
            "Epoch 115/200\n",
            "1/1 - 0s - 59ms/step - accuracy: 0.9091 - loss: 0.4905\n",
            "Epoch 116/200\n",
            "1/1 - 0s - 49ms/step - accuracy: 0.9091 - loss: 0.4840\n",
            "Epoch 117/200\n",
            "1/1 - 0s - 45ms/step - accuracy: 0.9091 - loss: 0.4776\n",
            "Epoch 118/200\n",
            "1/1 - 0s - 45ms/step - accuracy: 0.9091 - loss: 0.4714\n",
            "Epoch 119/200\n",
            "1/1 - 0s - 45ms/step - accuracy: 0.9091 - loss: 0.4653\n",
            "Epoch 120/200\n",
            "1/1 - 0s - 44ms/step - accuracy: 0.9091 - loss: 0.4592\n",
            "Epoch 121/200\n",
            "1/1 - 0s - 44ms/step - accuracy: 0.9091 - loss: 0.4533\n",
            "Epoch 122/200\n",
            "1/1 - 0s - 49ms/step - accuracy: 0.9091 - loss: 0.4476\n",
            "Epoch 123/200\n",
            "1/1 - 0s - 44ms/step - accuracy: 0.9091 - loss: 0.4419\n",
            "Epoch 124/200\n",
            "1/1 - 0s - 46ms/step - accuracy: 0.9091 - loss: 0.4363\n",
            "Epoch 125/200\n",
            "1/1 - 0s - 59ms/step - accuracy: 0.9091 - loss: 0.4309\n",
            "Epoch 126/200\n",
            "1/1 - 0s - 48ms/step - accuracy: 0.9091 - loss: 0.4255\n",
            "Epoch 127/200\n",
            "1/1 - 0s - 45ms/step - accuracy: 0.9091 - loss: 0.4202\n",
            "Epoch 128/200\n",
            "1/1 - 0s - 47ms/step - accuracy: 0.9091 - loss: 0.4150\n",
            "Epoch 129/200\n",
            "1/1 - 0s - 44ms/step - accuracy: 0.9091 - loss: 0.4099\n",
            "Epoch 130/200\n",
            "1/1 - 0s - 49ms/step - accuracy: 0.9091 - loss: 0.4049\n",
            "Epoch 131/200\n",
            "1/1 - 0s - 47ms/step - accuracy: 0.9091 - loss: 0.4000\n",
            "Epoch 132/200\n",
            "1/1 - 0s - 45ms/step - accuracy: 0.9091 - loss: 0.3952\n",
            "Epoch 133/200\n",
            "1/1 - 0s - 45ms/step - accuracy: 0.9091 - loss: 0.3904\n",
            "Epoch 134/200\n",
            "1/1 - 0s - 48ms/step - accuracy: 0.9091 - loss: 0.3857\n",
            "Epoch 135/200\n",
            "1/1 - 0s - 46ms/step - accuracy: 0.9091 - loss: 0.3811\n",
            "Epoch 136/200\n",
            "1/1 - 0s - 44ms/step - accuracy: 1.0000 - loss: 0.3766\n",
            "Epoch 137/200\n",
            "1/1 - 0s - 44ms/step - accuracy: 1.0000 - loss: 0.3721\n",
            "Epoch 138/200\n",
            "1/1 - 0s - 45ms/step - accuracy: 1.0000 - loss: 0.3678\n",
            "Epoch 139/200\n",
            "1/1 - 0s - 44ms/step - accuracy: 1.0000 - loss: 0.3634\n",
            "Epoch 140/200\n",
            "1/1 - 0s - 46ms/step - accuracy: 1.0000 - loss: 0.3592\n",
            "Epoch 141/200\n",
            "1/1 - 0s - 43ms/step - accuracy: 1.0000 - loss: 0.3550\n",
            "Epoch 142/200\n",
            "1/1 - 0s - 46ms/step - accuracy: 1.0000 - loss: 0.3509\n",
            "Epoch 143/200\n",
            "1/1 - 0s - 43ms/step - accuracy: 1.0000 - loss: 0.3468\n",
            "Epoch 144/200\n",
            "1/1 - 0s - 44ms/step - accuracy: 1.0000 - loss: 0.3428\n",
            "Epoch 145/200\n",
            "1/1 - 0s - 43ms/step - accuracy: 1.0000 - loss: 0.3389\n",
            "Epoch 146/200\n",
            "1/1 - 0s - 55ms/step - accuracy: 1.0000 - loss: 0.3350\n",
            "Epoch 147/200\n",
            "1/1 - 0s - 54ms/step - accuracy: 1.0000 - loss: 0.3311\n",
            "Epoch 148/200\n",
            "1/1 - 0s - 45ms/step - accuracy: 1.0000 - loss: 0.3274\n",
            "Epoch 149/200\n",
            "1/1 - 0s - 43ms/step - accuracy: 1.0000 - loss: 0.3236\n",
            "Epoch 150/200\n",
            "1/1 - 0s - 43ms/step - accuracy: 1.0000 - loss: 0.3200\n",
            "Epoch 151/200\n",
            "1/1 - 0s - 48ms/step - accuracy: 1.0000 - loss: 0.3164\n",
            "Epoch 152/200\n",
            "1/1 - 0s - 45ms/step - accuracy: 1.0000 - loss: 0.3128\n",
            "Epoch 153/200\n",
            "1/1 - 0s - 49ms/step - accuracy: 1.0000 - loss: 0.3093\n",
            "Epoch 154/200\n",
            "1/1 - 0s - 45ms/step - accuracy: 1.0000 - loss: 0.3058\n",
            "Epoch 155/200\n",
            "1/1 - 0s - 45ms/step - accuracy: 1.0000 - loss: 0.3024\n",
            "Epoch 156/200\n",
            "1/1 - 0s - 44ms/step - accuracy: 1.0000 - loss: 0.2990\n",
            "Epoch 157/200\n",
            "1/1 - 0s - 44ms/step - accuracy: 1.0000 - loss: 0.2957\n",
            "Epoch 158/200\n",
            "1/1 - 0s - 45ms/step - accuracy: 1.0000 - loss: 0.2924\n",
            "Epoch 159/200\n",
            "1/1 - 0s - 44ms/step - accuracy: 1.0000 - loss: 0.2891\n",
            "Epoch 160/200\n",
            "1/1 - 0s - 44ms/step - accuracy: 1.0000 - loss: 0.2859\n",
            "Epoch 161/200\n",
            "1/1 - 0s - 46ms/step - accuracy: 1.0000 - loss: 0.2827\n",
            "Epoch 162/200\n",
            "1/1 - 0s - 48ms/step - accuracy: 1.0000 - loss: 0.2796\n",
            "Epoch 163/200\n",
            "1/1 - 0s - 48ms/step - accuracy: 1.0000 - loss: 0.2765\n",
            "Epoch 164/200\n",
            "1/1 - 0s - 45ms/step - accuracy: 1.0000 - loss: 0.2734\n",
            "Epoch 165/200\n",
            "1/1 - 0s - 46ms/step - accuracy: 1.0000 - loss: 0.2704\n",
            "Epoch 166/200\n",
            "1/1 - 0s - 44ms/step - accuracy: 1.0000 - loss: 0.2674\n",
            "Epoch 167/200\n",
            "1/1 - 0s - 60ms/step - accuracy: 1.0000 - loss: 0.2644\n",
            "Epoch 168/200\n",
            "1/1 - 0s - 50ms/step - accuracy: 1.0000 - loss: 0.2615\n",
            "Epoch 169/200\n",
            "1/1 - 0s - 46ms/step - accuracy: 1.0000 - loss: 0.2586\n",
            "Epoch 170/200\n",
            "1/1 - 0s - 46ms/step - accuracy: 1.0000 - loss: 0.2557\n",
            "Epoch 171/200\n",
            "1/1 - 0s - 46ms/step - accuracy: 1.0000 - loss: 0.2528\n",
            "Epoch 172/200\n",
            "1/1 - 0s - 46ms/step - accuracy: 1.0000 - loss: 0.2500\n",
            "Epoch 173/200\n",
            "1/1 - 0s - 48ms/step - accuracy: 1.0000 - loss: 0.2472\n",
            "Epoch 174/200\n",
            "1/1 - 0s - 46ms/step - accuracy: 1.0000 - loss: 0.2444\n",
            "Epoch 175/200\n",
            "1/1 - 0s - 46ms/step - accuracy: 1.0000 - loss: 0.2417\n",
            "Epoch 176/200\n",
            "1/1 - 0s - 44ms/step - accuracy: 1.0000 - loss: 0.2390\n",
            "Epoch 177/200\n",
            "1/1 - 0s - 44ms/step - accuracy: 1.0000 - loss: 0.2362\n",
            "Epoch 178/200\n",
            "1/1 - 0s - 44ms/step - accuracy: 1.0000 - loss: 0.2336\n",
            "Epoch 179/200\n",
            "1/1 - 0s - 45ms/step - accuracy: 1.0000 - loss: 0.2309\n",
            "Epoch 180/200\n",
            "1/1 - 0s - 46ms/step - accuracy: 1.0000 - loss: 0.2282\n",
            "Epoch 181/200\n",
            "1/1 - 0s - 45ms/step - accuracy: 1.0000 - loss: 0.2256\n",
            "Epoch 182/200\n",
            "1/1 - 0s - 46ms/step - accuracy: 1.0000 - loss: 0.2230\n",
            "Epoch 183/200\n",
            "1/1 - 0s - 46ms/step - accuracy: 1.0000 - loss: 0.2204\n",
            "Epoch 184/200\n",
            "1/1 - 0s - 52ms/step - accuracy: 1.0000 - loss: 0.2178\n",
            "Epoch 185/200\n",
            "1/1 - 0s - 44ms/step - accuracy: 1.0000 - loss: 0.2152\n",
            "Epoch 186/200\n",
            "1/1 - 0s - 44ms/step - accuracy: 1.0000 - loss: 0.2127\n",
            "Epoch 187/200\n",
            "1/1 - 0s - 51ms/step - accuracy: 1.0000 - loss: 0.2102\n",
            "Epoch 188/200\n",
            "1/1 - 0s - 51ms/step - accuracy: 1.0000 - loss: 0.2076\n",
            "Epoch 189/200\n",
            "1/1 - 0s - 43ms/step - accuracy: 1.0000 - loss: 0.2051\n",
            "Epoch 190/200\n",
            "1/1 - 0s - 45ms/step - accuracy: 1.0000 - loss: 0.2026\n",
            "Epoch 191/200\n",
            "1/1 - 0s - 48ms/step - accuracy: 1.0000 - loss: 0.2001\n",
            "Epoch 192/200\n",
            "1/1 - 0s - 43ms/step - accuracy: 1.0000 - loss: 0.1976\n",
            "Epoch 193/200\n",
            "1/1 - 0s - 49ms/step - accuracy: 1.0000 - loss: 0.1952\n",
            "Epoch 194/200\n",
            "1/1 - 0s - 46ms/step - accuracy: 1.0000 - loss: 0.1927\n",
            "Epoch 195/200\n",
            "1/1 - 0s - 47ms/step - accuracy: 1.0000 - loss: 0.1903\n",
            "Epoch 196/200\n",
            "1/1 - 0s - 49ms/step - accuracy: 1.0000 - loss: 0.1878\n",
            "Epoch 197/200\n",
            "1/1 - 0s - 48ms/step - accuracy: 1.0000 - loss: 0.1854\n",
            "Epoch 198/200\n",
            "1/1 - 0s - 44ms/step - accuracy: 1.0000 - loss: 0.1830\n",
            "Epoch 199/200\n",
            "1/1 - 0s - 47ms/step - accuracy: 1.0000 - loss: 0.1806\n",
            "Epoch 200/200\n",
            "1/1 - 0s - 43ms/step - accuracy: 1.0000 - loss: 0.1782\n"
          ]
        },
        {
          "output_type": "execute_result",
          "data": {
            "text/plain": [
              "<keras.src.callbacks.history.History at 0x7d332c5660f0>"
            ]
          },
          "metadata": {},
          "execution_count": 15
        }
      ]
    },
    {
      "cell_type": "code",
      "source": [
        "def sentence_generation(model, tokenizer, current_word, n):\n",
        "  init_word = current_word\n",
        "  sentence = ''\n",
        "\n",
        "  # n번 반복\n",
        "  for _ in range(n):\n",
        "    # 현재 단어에 대한 정수 인코딩과 패딩\n",
        "    encoded = tokenizer.texts_to_sequences([current_word])[0]\n",
        "    encoded = pad_sequences([encoded], maxlen=5, padding='pre')\n",
        "    print(encoded)\n",
        "\n",
        "    # 입력한 X(현재 단어)에 대해서 Y를 예측하고 Y(예측한 단어)를 result에 저장.\n",
        "    result = model.predict(encoded, verbose=0)\n",
        "    result = np.argmax(result, axis=1)\n",
        "\n",
        "    for word, index in tokenizer.word_index.items():\n",
        "        # 만약 예측한 단어와 인덱스와 동일한 단어가 있다면 break\n",
        "        if index == result:\n",
        "            break\n",
        "    # 현재 단어 + ' ' + 예측 단어를 현재 단어로 변경\n",
        "    current_word = current_word + ' '  + word\n",
        "    print(current_word)\n",
        "    # 예측 단어를 문장에 저장\n",
        "    sentence = sentence + ' ' + word\n",
        "    print(sentence)\n",
        "\n",
        "  sentence = init_word + sentence\n",
        "  return sentence"
      ],
      "metadata": {
        "id": "bEDrVd05EAhb"
      },
      "execution_count": 28,
      "outputs": []
    },
    {
      "cell_type": "code",
      "source": [
        "print(sentence_generation(model, tokenizer, '경마장에', 4))"
      ],
      "metadata": {
        "colab": {
          "base_uri": "https://localhost:8080/"
        },
        "id": "Gr-jUrsQF2BC",
        "outputId": "3303480e-ae6d-441e-b828-d20fa2d5ddf0"
      },
      "execution_count": 29,
      "outputs": [
        {
          "output_type": "stream",
          "name": "stdout",
          "text": [
            "[[0 0 0 0 2]]\n",
            "경마장에 있는\n",
            " 있는\n",
            "[[0 0 0 2 3]]\n",
            "경마장에 있는 말이\n",
            " 있는 말이\n",
            "[[0 0 2 3 1]]\n",
            "경마장에 있는 말이 뛰고\n",
            " 있는 말이 뛰고\n",
            "[[0 2 3 1 4]]\n",
            "경마장에 있는 말이 뛰고 있다\n",
            " 있는 말이 뛰고 있다\n",
            "경마장에 있는 말이 뛰고 있다\n"
          ]
        }
      ]
    },
    {
      "cell_type": "code",
      "source": [
        "print(sentence_generation(model, tokenizer, '그의', 2))"
      ],
      "metadata": {
        "colab": {
          "base_uri": "https://localhost:8080/"
        },
        "id": "uycIQ3cwF4F4",
        "outputId": "524488f4-8562-445b-d4bc-956df7b69407"
      },
      "execution_count": 30,
      "outputs": [
        {
          "output_type": "stream",
          "name": "stdout",
          "text": [
            "[[0 0 0 0 6]]\n",
            "그의 말이\n",
            " 말이\n",
            "[[0 0 0 6 1]]\n",
            "그의 말이 법이다\n",
            " 말이 법이다\n",
            "그의 말이 법이다\n"
          ]
        }
      ]
    },
    {
      "cell_type": "code",
      "source": [
        "print(sentence_generation(model, tokenizer, '가는', 5))"
      ],
      "metadata": {
        "colab": {
          "base_uri": "https://localhost:8080/"
        },
        "id": "Z_nuGEScF9LC",
        "outputId": "aa32c7ca-ba44-4c15-b9b3-6c0cde5a9ff7"
      },
      "execution_count": 31,
      "outputs": [
        {
          "output_type": "stream",
          "name": "stdout",
          "text": [
            "[[0 0 0 0 8]]\n",
            "가는 말이\n",
            " 말이\n",
            "[[0 0 0 8 1]]\n",
            "가는 말이 고와야\n",
            " 말이 고와야\n",
            "[[0 0 8 1 9]]\n",
            "가는 말이 고와야 오는\n",
            " 말이 고와야 오는\n",
            "[[ 0  8  1  9 10]]\n",
            "가는 말이 고와야 오는 말이\n",
            " 말이 고와야 오는 말이\n",
            "[[ 8  1  9 10  1]]\n",
            "가는 말이 고와야 오는 말이 곱다\n",
            " 말이 고와야 오는 말이 곱다\n",
            "가는 말이 고와야 오는 말이 곱다\n"
          ]
        }
      ]
    }
  ]
}